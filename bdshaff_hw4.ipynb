{
 "cells": [
  {
   "cell_type": "markdown",
   "metadata": {},
   "source": [
    "## Stats701-001 Homework 4, Winter 2018\n",
    "### Ben Denis Shaffer\n",
    "#### bdshaff@umich.edu"
   ]
  },
  {
   "cell_type": "markdown",
   "metadata": {},
   "source": [
    "### Problem 1:  Still More Fun with Vectors"
   ]
  },
  {
   "cell_type": "markdown",
   "metadata": {},
   "source": [
    "Here we define a class that implements objects of type vector. Vecotor class supports a number of methods. The initialization method takes one or two arguments. The required argument is `dim` which is the dimension/length of the vector. The second arguemnt, which is not required, is a list of elements `vals`. Number of elements must be comformable with the `dim` argument. If only `dim` is supplied then `vals` are initialized to be all 0s.\n",
    "\n",
    "the `.dot()` method implements dot multiplication for two vecotrs of the same dimention.\n",
    "\n",
    "the `*` operator implements element-wise multiplication between two vectors of comfomable dimentions, and integers and floats. Both right and left multiplication are supported.\n",
    "\n",
    "the `.norm()` method retruns the p-norm of a vector. If p=0 the count of non-zero element is returned. If p is infinite, the largest magnitude element is returned."
   ]
  },
  {
   "cell_type": "code",
   "execution_count": 46,
   "metadata": {
    "collapsed": true
   },
   "outputs": [],
   "source": [
    "class Vector:\n",
    "    '''This class implement a Vector type that supports vector multiplication\n",
    "    and other common vector computations'''\n",
    "    \n",
    "    def __init__(self, dim = 1, vals = None):\n",
    "        if type(dim) != int or dim < 1:\n",
    "            raise TypeError(\"Dimention argument must be a Natural number.\")\n",
    "        elif vals == None:\n",
    "            self.dim = dim\n",
    "            self.vals = [0]*dim\n",
    "        elif len(vals) != dim:\n",
    "            raise ValueError(\"Number of entries and dimention don't agree.\")\n",
    "        else:\n",
    "            self.dim = dim\n",
    "            self.vals = vals\n",
    "    \n",
    "    def dot(self,other):\n",
    "        prod = 0\n",
    "        if type(other) != Vector:\n",
    "            raise TypeError(\"Method must be applied to a Vector\")\n",
    "        elif self.dim == other.dim:\n",
    "            prod = sum([i[0]*i[1] for i in zip(self.vals,other.vals)])\n",
    "            \n",
    "        return(prod)\n",
    "    \n",
    "    def __mul__(self, other):\n",
    "        if type(other) == Vector and self.dim == other.dim:\n",
    "            new_vals = [i[0]*i[1] for i in zip(self.vals,other.vals)]\n",
    "            new_dim = self.dim\n",
    "            new_vec = Vector(new_dim, new_vals)\n",
    "            return(new_vec)\n",
    "        elif type(other) == int or type(other) == float:\n",
    "            new_vals = [other*i for i in self.vals]\n",
    "            new_dim = self.dim\n",
    "            new_vec = Vector(new_dim, new_vals)\n",
    "            return(new_vec)\n",
    "        \n",
    "    def __rmul__(self, other):\n",
    "        new_vals = [other*i for i in self.vals]\n",
    "        new_dim = self.dim\n",
    "        new_vec = Vector(new_dim, new_vals)\n",
    "        return(new_vec)\n",
    "    \n",
    "    def norm(self, p):\n",
    "        \n",
    "        if type(p) != float and type(p) != int:\n",
    "            raise TypeError(\"p must be of type int or float\")\n",
    "            \n",
    "        if p < 0:\n",
    "            raise ValueError(\"p must not be negative\")\n",
    "        \n",
    "        res = -1\n",
    "        if p == 0:\n",
    "            res = sum([1 for i in self.vals if i != 0])\n",
    "        elif p == float(\"infinity\"):\n",
    "            res = max([abs(i) for i in self.vals])\n",
    "        else:\n",
    "            res = sum([abs(i)**p for i in self.vals])**(1/p)\n",
    "        return(res)"
   ]
  },
  {
   "cell_type": "code",
   "execution_count": 47,
   "metadata": {},
   "outputs": [
    {
     "name": "stdout",
     "output_type": "stream",
     "text": [
      "12\n",
      "[0, 12]\n",
      "[6, 9]\n",
      "[6, 9]\n",
      "5.0\n",
      "3.005162300965063\n",
      "3.0\n",
      "2\n",
      "3\n"
     ]
    }
   ],
   "source": [
    "v1 = Vector(dim = 2, vals = [2,3])\n",
    "v2 = Vector(dim = 2, vals = [0,4])\n",
    "print(v1.dot(v2))\n",
    "print((v1 * v2).vals)\n",
    "print((3 * v1).vals)\n",
    "print((v1 * 3).vals)\n",
    "print(v1.norm(1))\n",
    "print(v1.norm(10))\n",
    "print(v1.norm(300))\n",
    "print(v1.norm(0))\n",
    "print(v1.norm(float(\"infinity\")))"
   ]
  },
  {
   "cell_type": "markdown",
   "metadata": {},
   "source": [
    "2: I chose for the entries to be a list becasue lists are mutable and I would like to be able to change entires, and the whole vecotr easily."
   ]
  },
  {
   "cell_type": "markdown",
   "metadata": {},
   "source": [
    "3: They are instance/object attributes. This is the right design choice becasue we don't want a new instance of a Vector to inherit any attributes from the class."
   ]
  },
  {
   "cell_type": "markdown",
   "metadata": {},
   "source": [
    "### Problem 2:  Objects and Classes: Geometry Edition"
   ]
  },
  {
   "cell_type": "markdown",
   "metadata": {},
   "source": [
    "Here we defein the class that implements objects of type Point. The Point instances are initialized with two arguments, the x and y coordinates. The default values or x and y are set to 0.\n",
    "\n",
    "the `==`, `>`, `<`, `!=`, and `+` operatros are implemented. Addition is entrywise, as well as equality. Magnitude is first compared in the x-axis, and then in the y-axis."
   ]
  },
  {
   "cell_type": "code",
   "execution_count": 48,
   "metadata": {
    "collapsed": true
   },
   "outputs": [],
   "source": [
    "class Point:\n",
    "    '''Implements an object of type Point'''\n",
    "    \n",
    "    def __init__(self, x = 0, y = 0):\n",
    "        self.x = x\n",
    "        self.y = y\n",
    "        \n",
    "    def __eq__(self,other):\n",
    "        res = False\n",
    "        if self.x == other.x and self.y == other.y:\n",
    "            res = True\n",
    "        return(res)\n",
    "    \n",
    "    def __lt__(self, other):\n",
    "        p1 = (self.x, self.y)\n",
    "        p2 = (other.x, other.y)\n",
    "        return(p1 < p2)\n",
    "    \n",
    "    def __gt__(self, other):\n",
    "        p1 = (self.x, self.y)\n",
    "        p2 = (other.x, other.y)\n",
    "        return(p1 > p2)\n",
    "    \n",
    "    def __add__(self, other):\n",
    "        res = Point(self.x + other.x, self.y + other.y)\n",
    "        return(res)"
   ]
  },
  {
   "cell_type": "code",
   "execution_count": 49,
   "metadata": {},
   "outputs": [
    {
     "name": "stdout",
     "output_type": "stream",
     "text": [
      "2 7\n",
      "False\n",
      "False\n",
      "True\n"
     ]
    }
   ],
   "source": [
    "p1 = Point(2,3)\n",
    "p2 = Point(0,4)\n",
    "print((p1 + p2).x, (p1 + p2).y)\n",
    "print(p1 == p2)\n",
    "print(p1 < p2)\n",
    "print(p1 > p2)"
   ]
  },
  {
   "cell_type": "code",
   "execution_count": 50,
   "metadata": {
    "collapsed": true
   },
   "outputs": [],
   "source": [
    "class Line:\n",
    "    '''Implementation objects of type Line'''\n",
    "    \n",
    "    def __init__(self, y0 = 0, slope = 1.0):\n",
    "        self.y0 = y0\n",
    "        self.slope = slope\n",
    "    \n",
    "    def project(self, point):\n",
    "        y1 = (self.slope + self.y0)\n",
    "        x1 = 1\n",
    "        v1 = Vector(dim = 2, vals = [x1,y1])             #Here we use the Vector object from Problem 1\n",
    "        v2 = Vector(dim = 2, vals = [point.x, point.y])\n",
    "        res = (v1.dot(v2) / v1.dot(v1)) * v1\n",
    "        return(Point(res.vals[0],res.vals[1]))"
   ]
  },
  {
   "cell_type": "code",
   "execution_count": 51,
   "metadata": {
    "collapsed": true
   },
   "outputs": [],
   "source": [
    "l1 = Line(0,2)"
   ]
  },
  {
   "cell_type": "code",
   "execution_count": 52,
   "metadata": {},
   "outputs": [],
   "source": [
    "proj = l1.project(p1)"
   ]
  },
  {
   "cell_type": "code",
   "execution_count": 53,
   "metadata": {},
   "outputs": [
    {
     "name": "stdout",
     "output_type": "stream",
     "text": [
      "1.6 3.2\n"
     ]
    }
   ],
   "source": [
    "print(proj.x, proj.y)"
   ]
  },
  {
   "cell_type": "markdown",
   "metadata": {},
   "source": [
    "### Problem 3:  Objects and Inheritance"
   ]
  },
  {
   "cell_type": "code",
   "execution_count": 2,
   "metadata": {
    "collapsed": true
   },
   "outputs": [],
   "source": [
    "class Author:\n",
    "    '''Implementation objects of type Author'''\n",
    "    next_id = 0\n",
    "    \n",
    "    def __init__(self, given_name = None, family_name = None):\n",
    "        self.given_name = given_name\n",
    "        self.family_name = family_name\n",
    "        self.author_id = Author.next_id\n",
    "        Author.next_id += 1\n",
    "        \n",
    "    def __str__(self):\n",
    "        return(str(self.family_name) + \", \" + str(self.given_name[0]) + \".\")"
   ]
  },
  {
   "cell_type": "code",
   "execution_count": 3,
   "metadata": {
    "collapsed": true
   },
   "outputs": [],
   "source": [
    "a1 = Author(\"Dan\",\"Shaffer\")"
   ]
  },
  {
   "cell_type": "code",
   "execution_count": 4,
   "metadata": {
    "collapsed": true
   },
   "outputs": [],
   "source": [
    "a2 = Author(\"Ben\",\"Shaffer\")"
   ]
  },
  {
   "cell_type": "code",
   "execution_count": 5,
   "metadata": {
    "collapsed": true
   },
   "outputs": [],
   "source": [
    "a3 = Author(\"James\",\"Bond\")"
   ]
  },
  {
   "cell_type": "code",
   "execution_count": 9,
   "metadata": {},
   "outputs": [
    {
     "name": "stdout",
     "output_type": "stream",
     "text": [
      "0 Shaffer, D.\n",
      "1 Shaffer, B.\n",
      "2 Bond, J.\n"
     ]
    }
   ],
   "source": [
    "print(a1.author_id, a1)\n",
    "print(a2.author_id, a2)\n",
    "print(a3.author_id, a3)"
   ]
  },
  {
   "cell_type": "code",
   "execution_count": 26,
   "metadata": {
    "collapsed": true
   },
   "outputs": [],
   "source": [
    "class Document:\n",
    "    '''Implementation objects of type Document'''\n",
    "    \n",
    "    def __init__(self, author = list(), title = None, year = None):\n",
    "        self.author = author\n",
    "        self.title = title\n",
    "        self.year = year\n",
    "    \n",
    "    def __str__(self):\n",
    "        if len(self.author) == 0 or self.title == None or self.year == None:\n",
    "            raise ValueError(\"All attributes must be specified\")\n",
    "        else:\n",
    "            sttr = str(self.author[0])\n",
    "            for i in range(len(self.author)-1):\n",
    "                sttr = sttr + \" and \" + str(self.author[i+1])\n",
    "            sttr = sttr + \" (\" + str(self.year) + \"). \" + self.title + \".\"\n",
    "            return(sttr)     "
   ]
  },
  {
   "cell_type": "code",
   "execution_count": 32,
   "metadata": {
    "collapsed": true
   },
   "outputs": [],
   "source": [
    "d1 = Document([a1,a2,a3], \"Blahhten\", 2015)"
   ]
  },
  {
   "cell_type": "code",
   "execution_count": 39,
   "metadata": {},
   "outputs": [
    {
     "data": {
      "text/plain": [
       "'Shaffer, D. and Shaffer, B. and Bond, J. (2015). Blahhten.'"
      ]
     },
     "execution_count": 39,
     "metadata": {},
     "output_type": "execute_result"
    }
   ],
   "source": [
    "str(d1)"
   ]
  },
  {
   "cell_type": "code",
   "execution_count": 35,
   "metadata": {
    "collapsed": true
   },
   "outputs": [],
   "source": [
    "class Book:\n",
    "    '''Implementation objects of type Book'''\n",
    "    \n",
    "    def __init__(self, author = list(), title = None, year = None, publisher = None):\n",
    "        self.author = author\n",
    "        self.title = title\n",
    "        self.year = year\n",
    "        self.publisher = publisher\n",
    "        \n",
    "    def __str__(self):\n",
    "        if self.publisher == None:\n",
    "            raise ValueError(\"Publisher must be specified\")\n",
    "        else:\n",
    "            sttr = str(self.author[0])\n",
    "            for i in range(len(self.author)-1):\n",
    "                sttr = sttr + \" and \" + str(self.author[i+1])\n",
    "            sttr = sttr + \" (\" + str(self.year) + \"). \" + self.title + \". \" + self.publisher + \".\"\n",
    "            return(sttr)\n",
    "    "
   ]
  },
  {
   "cell_type": "code",
   "execution_count": 36,
   "metadata": {
    "collapsed": true
   },
   "outputs": [],
   "source": [
    "b1 = Book([a1,a2,a3], \"Blahhten\", 2015, \"BlahtenPress Inc\")"
   ]
  },
  {
   "cell_type": "code",
   "execution_count": 38,
   "metadata": {},
   "outputs": [
    {
     "data": {
      "text/plain": [
       "'Shaffer, D. and Shaffer, B. and Bond, J. (2015). Blahhten. BlahtenPress Inc.'"
      ]
     },
     "execution_count": 38,
     "metadata": {},
     "output_type": "execute_result"
    }
   ],
   "source": [
    "str(b1)"
   ]
  }
 ],
 "metadata": {
  "kernelspec": {
   "display_name": "Python 3",
   "language": "python",
   "name": "python3"
  },
  "language_info": {
   "codemirror_mode": {
    "name": "ipython",
    "version": 3
   },
   "file_extension": ".py",
   "mimetype": "text/x-python",
   "name": "python",
   "nbconvert_exporter": "python",
   "pygments_lexer": "ipython3",
   "version": "3.5.4"
  }
 },
 "nbformat": 4,
 "nbformat_minor": 2
}
