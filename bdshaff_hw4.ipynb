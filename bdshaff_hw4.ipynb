{
 "cells": [
  {
   "cell_type": "markdown",
   "metadata": {},
   "source": [
    "## Stats701-001 Homework 4, Winter 2018\n",
    "### Ben Denis Shaffer\n",
    "#### bdshaff@umich.edu"
   ]
  },
  {
   "cell_type": "markdown",
   "metadata": {},
   "source": [
    "### Problem 1:  Still More Fun with Vectors"
   ]
  },
  {
   "cell_type": "code",
   "execution_count": 119,
   "metadata": {},
   "outputs": [],
   "source": [
    "class Vector:\n",
    "    '''This class implement a Vector type that supports vector multiplication\n",
    "    and other common vector computations'''\n",
    "    \n",
    "    def __init__(self, dim = 1, vals = [0]):\n",
    "        if type(dim) != int:\n",
    "            raise TypeError(\"Dimention argument must be of tupe int.\")\n",
    "        elif len(vals) != dim:\n",
    "            raise ValueError(\"Number of entries and dimention don't agree.\")\n",
    "        else:\n",
    "            self.dim = dim\n",
    "            self.vals = vals\n",
    "    \n",
    "    def dot(self,other):\n",
    "        prod = 0\n",
    "        if type(other) != Vector:\n",
    "            raise TypeError(\"Method must be applied to a Vector\")\n",
    "        elif self.dim == other.dim:\n",
    "            prod = sum([i[0]*i[1] for i in zip(self.vals,other.vals)])\n",
    "            \n",
    "        return(prod)\n",
    "    \n",
    "    def __mul__(self, other):\n",
    "        if type(other) == Vector:\n",
    "            new_vals = [i[0]*i[1] for i in zip(self.vals,other.vals)]\n",
    "            new_dim = self.dim\n",
    "            new_vec = Vector(new_dim, new_vals)\n",
    "            return(new_vec)\n",
    "        elif type(other) == int or type(other) == float:\n",
    "            new_vals = [other*i for i in self.vals]\n",
    "            new_dim = self.dim\n",
    "            new_vec = Vector(new_dim, new_vals)\n",
    "            return(new_vec)\n",
    "        \n",
    "    def __rmul__(self, other):\n",
    "        new_vals = [other*i for i in self.vals]\n",
    "        new_dim = self.dim\n",
    "        new_vec = Vector(new_dim, new_vals)\n",
    "        return(new_vec)\n",
    "    \n",
    "    def norm(self, p):\n",
    "        \n",
    "        if type(p) != float and type(p) != int:\n",
    "            raise TypeError(\"p must be of type int or float\")\n",
    "            \n",
    "        if p < 0:\n",
    "            raise ValueError(\"p must not be negative\")\n",
    "        \n",
    "        res = -1\n",
    "        if p == 0:\n",
    "            res = sum([1 for i in self.vals if i != 0])\n",
    "        elif p == float(\"infinity\"):\n",
    "            res = max([abs(i) for i in self.vals])\n",
    "        else:\n",
    "            res = sum([abs(i)**p for i in self.vals])**(1/p)\n",
    "        return(res)"
   ]
  },
  {
   "cell_type": "code",
   "execution_count": 120,
   "metadata": {},
   "outputs": [],
   "source": [
    "v1 = Vector(4,[5,-100,10,4])\n",
    "v2 = Vector(4,[3,3,8,3])"
   ]
  },
  {
   "cell_type": "markdown",
   "metadata": {},
   "source": [
    "2: I chose for the entries to be a list becasue lists are mutable and I would like to be able to change entires, and the whole vecotr easily."
   ]
  },
  {
   "cell_type": "markdown",
   "metadata": {},
   "source": [
    "3: They are instance/object attributes."
   ]
  },
  {
   "cell_type": "markdown",
   "metadata": {},
   "source": [
    "### Problem 2:  Objects and Classes: Geometry Edition"
   ]
  },
  {
   "cell_type": "code",
   "execution_count": 194,
   "metadata": {
    "collapsed": true
   },
   "outputs": [],
   "source": [
    "class Point:\n",
    "    '''Implements an object of type Point'''\n",
    "    \n",
    "    def __init__(self, x = 0, y = 0):\n",
    "        self.x = x\n",
    "        self.y = y\n",
    "        \n",
    "    def __eq__(self,other):\n",
    "        res = False\n",
    "        if self.x == other.x and self.y == other.y:\n",
    "            res = True\n",
    "        return(res)\n",
    "    \n",
    "    def __lt__(self, other):\n",
    "        p1 = (self.x, self.y)\n",
    "        p2 = (other.x, other.y)\n",
    "        return(p1 < p2)\n",
    "    \n",
    "    def __gt__(self, other):\n",
    "        p1 = (self.x, self.y)\n",
    "        p2 = (other.x, other.y)\n",
    "        return(p1 > p2)\n",
    "    \n",
    "    def __add__(self, other):\n",
    "        res = Point(self.x + other.x, self.y + other.y)\n",
    "        return(res)\n",
    "    \n",
    "    "
   ]
  },
  {
   "cell_type": "code",
   "execution_count": 195,
   "metadata": {},
   "outputs": [],
   "source": [
    "p1 = Point(10,-6)\n",
    "p2 = Point(0,4)"
   ]
  },
  {
   "cell_type": "code",
   "execution_count": null,
   "metadata": {
    "collapsed": true
   },
   "outputs": [],
   "source": [
    "class Line:\n",
    "    '''Implementation objects of type Line'''\n",
    "    \n",
    "    def __init__(self, y0 = 0, slope = 1.0):\n",
    "        self.y0 = y0\n",
    "        self.slope = slope\n",
    "    \n",
    "    #def project(self, point):"
   ]
  },
  {
   "cell_type": "markdown",
   "metadata": {},
   "source": [
    "### Problem 3:  Objects and Inheritance"
   ]
  },
  {
   "cell_type": "code",
   "execution_count": 228,
   "metadata": {},
   "outputs": [],
   "source": [
    "class Author:\n",
    "    '''balh blah '''\n",
    "    next_id = 0\n",
    "    \n",
    "    def __init__(self, given_name = None, family_name = None, author_id = next_id):\n",
    "        self.given_name = given_name\n",
    "        self.family_name = family_name\n",
    "        self.author_id = author_id\n",
    "        next_id = self.next_id + 1\n",
    "        \n",
    "    def __str__(self):\n",
    "        print(self.family_name + \", \" + self.given_name[0] + \".'.\")"
   ]
  },
  {
   "cell_type": "code",
   "execution_count": 229,
   "metadata": {},
   "outputs": [],
   "source": [
    "a1 = Author(\"Dan\",\"Shaffer\")"
   ]
  },
  {
   "cell_type": "code",
   "execution_count": 231,
   "metadata": {
    "collapsed": true
   },
   "outputs": [],
   "source": [
    "a2 = Author(\"Ben\",\"Shaffer\")"
   ]
  },
  {
   "cell_type": "code",
   "execution_count": 230,
   "metadata": {},
   "outputs": [
    {
     "data": {
      "text/plain": [
       "0"
      ]
     },
     "execution_count": 230,
     "metadata": {},
     "output_type": "execute_result"
    }
   ],
   "source": [
    "a1.author_id"
   ]
  },
  {
   "cell_type": "code",
   "execution_count": 232,
   "metadata": {},
   "outputs": [
    {
     "data": {
      "text/plain": [
       "0"
      ]
     },
     "execution_count": 232,
     "metadata": {},
     "output_type": "execute_result"
    }
   ],
   "source": [
    "a2.author_id"
   ]
  },
  {
   "cell_type": "code",
   "execution_count": null,
   "metadata": {
    "collapsed": true
   },
   "outputs": [],
   "source": [
    "class Document:\n",
    "    '''blah blah'''\n",
    "    \n",
    "    def __init__(self, author = list(), title = None, year = None):\n",
    "        self.author = author\n",
    "        self.title = title\n",
    "        self.year = year\n",
    "    \n",
    "    def __str__(self):\n",
    "        "
   ]
  }
 ],
 "metadata": {
  "kernelspec": {
   "display_name": "Python 3",
   "language": "python",
   "name": "python3"
  },
  "language_info": {
   "codemirror_mode": {
    "name": "ipython",
    "version": 3
   },
   "file_extension": ".py",
   "mimetype": "text/x-python",
   "name": "python",
   "nbconvert_exporter": "python",
   "pygments_lexer": "ipython3",
   "version": "3.5.4"
  }
 },
 "nbformat": 4,
 "nbformat_minor": 2
}
