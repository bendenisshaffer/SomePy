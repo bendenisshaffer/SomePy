{
 "cells": [
  {
   "cell_type": "markdown",
   "metadata": {},
   "source": [
    "## Stats701-001 Homework 3, Winter 2018\n",
    "### Ben Denis Shaffer\n",
    "#### bdshaff@umich.edu"
   ]
  },
  {
   "cell_type": "markdown",
   "metadata": {},
   "source": [
    "### 1 More Fun with Tuples"
   ]
  },
  {
   "cell_type": "markdown",
   "metadata": {},
   "source": [
    "Function `my_sum` is function that takes any number of arguments and returns their sum. Here arguments are assumed to be integers or real numbers."
   ]
  },
  {
   "cell_type": "code",
   "execution_count": 8,
   "metadata": {
    "collapsed": true
   },
   "outputs": [],
   "source": [
    "def my_sum(*args):\n",
    "    return(sum(args))"
   ]
  },
  {
   "cell_type": "markdown",
   "metadata": {},
   "source": [
    "Function `reverse_tuple` takes a tuple as an argument and returns a tuple of the same length, with each element in reverse order."
   ]
  },
  {
   "cell_type": "code",
   "execution_count": 43,
   "metadata": {
    "collapsed": true
   },
   "outputs": [],
   "source": [
    "def reverse_tuple(tp):\n",
    "    j = len(tp) - 1\n",
    "    l = []\n",
    "    while j >= 0:\n",
    "        l.append(tp[j])\n",
    "        j = j - 1\n",
    "    return(tuple(l))"
   ]
  },
  {
   "cell_type": "markdown",
   "metadata": {},
   "source": [
    "Function `rotate_tuple` takes a tuple and an integer `n` as two arguemnts and returns a tuple rotated to the right. If `n` is negative left rotation takes place."
   ]
  },
  {
   "cell_type": "code",
   "execution_count": 119,
   "metadata": {
    "collapsed": true
   },
   "outputs": [],
   "source": [
    "def rotate_tuple(tp,n):\n",
    "    if type(tp) != tuple:\n",
    "        raise TypeError(\"First argument must be of type tuple.\")\n",
    "    \n",
    "    try:\n",
    "        nr = n % len(tp)\n",
    "        t = tp[-nr:] + tp[:-nr]\n",
    "        return(t)\n",
    "    except TypeError:\n",
    "        if type(n) != int:\n",
    "            print(\"An int was expected as the second argument. Trying to cast to int.\")\n",
    "            nr = int(n) % len(tp)\n",
    "            t = tp[-nr:] + tp[:-nr]\n",
    "            return(t)"
   ]
  },
  {
   "cell_type": "markdown",
   "metadata": {},
   "source": [
    "### 2 More Fun with Vectors"
   ]
  },
  {
   "cell_type": "markdown",
   "metadata": {},
   "source": [
    "Function `is_valid_sparse_vector` checks if the argument is a valid sparse vector, with keys or type int and values of type float only."
   ]
  },
  {
   "cell_type": "code",
   "execution_count": 151,
   "metadata": {
    "collapsed": true
   },
   "outputs": [],
   "source": [
    "def is_valid_sparse_vector(v):\n",
    "    l = len(v)\n",
    "    if type(v) != dict:\n",
    "        return(False)\n",
    "    if sum([type(v[i]) == float for i in v.keys()]) != l:\n",
    "        return(False)\n",
    "    if sum([type(i) == int for i in v.keys()]) != l:\n",
    "        return(False)\n",
    "\n",
    "    return(True)"
   ]
  },
  {
   "cell_type": "markdown",
   "metadata": {},
   "source": [
    "Function `sparse_inner_product` imlements the dot product of two valid sparse vectors."
   ]
  },
  {
   "cell_type": "code",
   "execution_count": 175,
   "metadata": {
    "collapsed": true
   },
   "outputs": [],
   "source": [
    "def sparse_inner_product(v1,v2):\n",
    "    res = 0\n",
    "    if not is_valid_sparse_vector(v1) or not is_valid_sparse_vector(v2):\n",
    "        raise TypeError(\"Both vectors must be valid sparce vectors.\")\n",
    "    else:\n",
    "        ks = [k for k in v1.keys() if k in v2.keys()]\n",
    "        res = sum([v1[ksi]*v2[ksi] for ksi in ks])\n",
    "    \n",
    "    return(res)"
   ]
  },
  {
   "cell_type": "markdown",
   "metadata": {},
   "source": [
    "### 3 Counting Word Bigrams"
   ]
  },
  {
   "cell_type": "code",
   "execution_count": 1,
   "metadata": {
    "collapsed": true
   },
   "outputs": [],
   "source": [
    "#reading in the line with UTF-8 characters to strip from a line when cleaning\n",
    "some_chars = open(\"badstring.txt\", \"r\")\n",
    "some_chars = some_chars.readline()"
   ]
  },
  {
   "cell_type": "markdown",
   "metadata": {},
   "source": [
    "Function `clean_line` takes a single line of text as an argument, prefromes desired cleaning by splitting and stripping the line of text, and returns the clean line."
   ]
  },
  {
   "cell_type": "code",
   "execution_count": 2,
   "metadata": {
    "collapsed": true
   },
   "outputs": [],
   "source": [
    "def clean_line(line):\n",
    "    cl = \"\"\n",
    "    for w in line.split():\n",
    "        cl = cl + \" \" +  w.strip(some_chars).lower()\n",
    "    return(cl.strip())"
   ]
  },
  {
   "cell_type": "markdown",
   "metadata": {},
   "source": [
    "Function `count_bigrams_in_file` takes in a file name as an argument and retruns a dictionary of bigrams in the file. If the file is not found an error is raised. The file is assumed to be a text file."
   ]
  },
  {
   "cell_type": "code",
   "execution_count": 3,
   "metadata": {
    "collapsed": true
   },
   "outputs": [],
   "source": [
    "def count_bigrams_in_file(file_name):\n",
    "    res = {}\n",
    "    try:\n",
    "        #First count the total numbe of lines to use later in a while loop.\n",
    "        num_lines = sum([1 for i in open(file_name,\"r\")])\n",
    "        \n",
    "        #initiate a dictionary with bigrams from the first two lines.\n",
    "        cnt = num_lines - 2\n",
    "        f = open(file_name,\"r\")\n",
    "\n",
    "        f1 = f.readline()\n",
    "        f2 = f.readline()\n",
    "        \n",
    "        #concatinating two lines into one to count cases with first word of second line.\n",
    "        #and last word of the preceeding line.\n",
    "        new_line = clean_line(f1) + \" \" + clean_line(f2)   #calling clean_line.\n",
    "        new_line = new_line.strip()                        #stripping the while spaces.\n",
    "        line_split = new_line.split()\n",
    "        for i in range(len(line_split) - 1):\n",
    "            tpl = (line_split[i],line_split[i+1])\n",
    "            if tpl not in res.keys():\n",
    "                res[tpl] = 1\n",
    "            else:\n",
    "                res[tpl] = res[tpl] + 1\n",
    "\n",
    "        while cnt > 0:\n",
    "\n",
    "            prev_line = new_line\n",
    "            last_word = prev_line.split()[-1]              #saving the last word of the latest read line.\n",
    "            f1 = f.readline()\n",
    "            new_line = last_word + \" \" + clean_line(f1)    #concatinating the last word of precceding line to new line.\n",
    "            new_line = new_line.strip()\n",
    "\n",
    "            if new_line == prev_line:   #This is to avoid double counting due to blank lines, where the last_word would be blank and a line woudl be repeated.\n",
    "                        next\n",
    "            else:\n",
    "                line_split = new_line.split()\n",
    "                for i in range(len(line_split) - 1):\n",
    "                    tpl = (line_split[i],line_split[i+1])\n",
    "                    if tpl not in res.keys():\n",
    "                        res[tpl] = 1\n",
    "                    else:\n",
    "                        res[tpl] = res[tpl] + 1\n",
    "\n",
    "            cnt = cnt - 1\n",
    "        \n",
    "        f.close()\n",
    "        \n",
    "    except:\n",
    "        print(\"File not found!!\")\n",
    "    \n",
    "    return(res)"
   ]
  },
  {
   "cell_type": "code",
   "execution_count": 4,
   "metadata": {},
   "outputs": [
    {
     "data": {
      "text/plain": [
       "{('a', 'league'): 3,\n",
       " ('all', 'in'): 1,\n",
       " ('and', 'then'): 1,\n",
       " ('broo', 'cmno'): 1,\n",
       " ('death', 'rode'): 1,\n",
       " ('half', 'a'): 3,\n",
       " ('hundred', 'something'): 1,\n",
       " ('in', 'the'): 1,\n",
       " ('league', 'half'): 2,\n",
       " ('league', 'onward'): 1,\n",
       " ('more', 'and'): 1,\n",
       " ('of', 'death'): 1,\n",
       " ('onward', 'all'): 1,\n",
       " ('rode', 'the'): 1,\n",
       " ('six', 'hundred'): 1,\n",
       " ('something', 'more'): 1,\n",
       " ('the', 'six'): 1,\n",
       " ('the', 'valley'): 1,\n",
       " ('then', 'whatevet'): 1,\n",
       " ('valley', 'of'): 1,\n",
       " ('whatevet', 'broo'): 1}"
      ]
     },
     "execution_count": 4,
     "metadata": {},
     "output_type": "execute_result"
    }
   ],
   "source": [
    "count_bigrams_in_file(\"testtxt.txt\") #looks like it is functioning correctly"
   ]
  },
  {
   "cell_type": "markdown",
   "metadata": {},
   "source": [
    "Function `collocations` forms a list for each word in a text file containing all words that are adjacent to it in the file. IMPORTANT (This function depends on the `count_bigrams_in_file` function defined above!)"
   ]
  },
  {
   "cell_type": "code",
   "execution_count": 5,
   "metadata": {
    "collapsed": true
   },
   "outputs": [],
   "source": [
    "def collocations(file_name):\n",
    "    clocres = {}\n",
    "    res = count_bigrams_in_file(file_name) # first compute all bigrams\n",
    "\n",
    "    #set first or second word of bigram counts if its not a key already.\n",
    "    #and add the second to the list of colocated words at the same time.\n",
    "    for k in res.keys():\n",
    "        if k[0] not in clocres:\n",
    "            clocres[k[0]] = set()\n",
    "            clocres[k[0]].add(k[1])\n",
    "        else:                         #if the word already has a key, add the second word to the list\n",
    "            clocres[k[0]].add(k[1])\n",
    "\n",
    "        # for cases where a word first appears as the second word of a bigram.\n",
    "        if k[1] not in clocres:\n",
    "            clocres[k[1]] = set()\n",
    "            clocres[k[1]].add(k[0])\n",
    "        else:\n",
    "            clocres[k[0]].add(k[1])\n",
    "    \n",
    "    return(clocres)"
   ]
  },
  {
   "cell_type": "code",
   "execution_count": 6,
   "metadata": {},
   "outputs": [
    {
     "data": {
      "text/plain": [
       "{'a': {'half', 'league'},\n",
       " 'all': {'in'},\n",
       " 'and': {'more', 'then'},\n",
       " 'broo': {'cmno', 'whatevet'},\n",
       " 'cmno': {'broo'},\n",
       " 'death': {'of', 'rode'},\n",
       " 'half': {'a'},\n",
       " 'hundred': {'six', 'something'},\n",
       " 'in': {'all', 'the'},\n",
       " 'league': {'a', 'half', 'onward'},\n",
       " 'more': {'and'},\n",
       " 'of': {'death'},\n",
       " 'onward': {'all'},\n",
       " 'rode': {'death', 'the'},\n",
       " 'six': {'hundred', 'the'},\n",
       " 'something': {'hundred', 'more'},\n",
       " 'the': {'six', 'valley'},\n",
       " 'then': {'whatevet'},\n",
       " 'valley': {'of'},\n",
       " 'whatevet': {'broo'}}"
      ]
     },
     "execution_count": 6,
     "metadata": {},
     "output_type": "execute_result"
    }
   ],
   "source": [
    "collocations(\"testtxt.txt\") #looks like it is functioning correctly too."
   ]
  },
  {
   "cell_type": "code",
   "execution_count": 8,
   "metadata": {
    "collapsed": true
   },
   "outputs": [],
   "source": [
    "import pickle"
   ]
  },
  {
   "cell_type": "code",
   "execution_count": 10,
   "metadata": {},
   "outputs": [],
   "source": [
    "pickle.dump(count_bigrams_in_file(\"mobydick.txt\"), open(\"mb.bigrams.pickle\", \"wb\"))\n",
    "pickle.dump(collocations(\"mobydick.txt\"), open(\"mb.colloc.pickle\", \"wb\"))"
   ]
  },
  {
   "cell_type": "code",
   "execution_count": 11,
   "metadata": {},
   "outputs": [],
   "source": [
    "dd2 = pickle.load(open(\"mb.bigrams.pickle\", \"rb\"))\n",
    "dd1 = pickle.load(open(\"mb.colloc.pickle\", \"rb\"))"
   ]
  },
  {
   "cell_type": "code",
   "execution_count": null,
   "metadata": {
    "collapsed": true
   },
   "outputs": [],
   "source": []
  }
 ],
 "metadata": {
  "kernelspec": {
   "display_name": "Python 3",
   "language": "python",
   "name": "python3"
  },
  "language_info": {
   "codemirror_mode": {
    "name": "ipython",
    "version": 3
   },
   "file_extension": ".py",
   "mimetype": "text/x-python",
   "name": "python",
   "nbconvert_exporter": "python",
   "pygments_lexer": "ipython3",
   "version": "3.5.4"
  }
 },
 "nbformat": 4,
 "nbformat_minor": 2
}
