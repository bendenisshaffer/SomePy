{
 "cells": [
  {
   "cell_type": "markdown",
   "metadata": {},
   "source": [
    "## Stats700-002 Homework 1, Fall 2017\n",
    "### Ben Denis Shaffer\n",
    "#### bdshaff@umich.edu"
   ]
  },
  {
   "cell_type": "markdown",
   "metadata": {},
   "source": [
    "### Problem 1: \n",
    "\n",
    "Function `say_hello` prints \"Hello, world!\""
   ]
  },
  {
   "cell_type": "code",
   "execution_count": 1,
   "metadata": {},
   "outputs": [
    {
     "name": "stdout",
     "output_type": "stream",
     "text": [
      "Hello, world!\n"
     ]
    }
   ],
   "source": [
    "def say_hello():\n",
    "    print(\"Hello, world!\")\n",
    "    \n",
    "say_hello()"
   ]
  },
  {
   "cell_type": "markdown",
   "metadata": {},
   "source": [
    "Function `goat_pad` concatinates the string \"goat\" to both ends of a string."
   ]
  },
  {
   "cell_type": "code",
   "execution_count": 6,
   "metadata": {},
   "outputs": [
    {
     "name": "stdout",
     "output_type": "stream",
     "text": [
      "goat Hello, world! goat\n"
     ]
    }
   ],
   "source": [
    "def goat_pad(string):\n",
    "    print(\"goat\" + string + \"goat\")\n",
    "    \n",
    "goat_pad(\" Hello, world! \")"
   ]
  },
  {
   "cell_type": "markdown",
   "metadata": {},
   "source": [
    "Function `print_n` prints a string `s` `n` times on a new line."
   ]
  },
  {
   "cell_type": "code",
   "execution_count": 8,
   "metadata": {},
   "outputs": [
    {
     "name": "stdout",
     "output_type": "stream",
     "text": [
      "goat Hello, world! goat\n",
      "goat Hello, world! goat\n",
      "goat Hello, world! goat\n",
      "goat Hello, world! goat\n"
     ]
    }
   ],
   "source": [
    "def print_n(s,n):\n",
    "    if n > 0:\n",
    "        print(s)\n",
    "        print_n(s,n-1)\n",
    "        \n",
    "print_n(\"goat Hello, world! goat\",4)    "
   ]
  },
  {
   "cell_type": "markdown",
   "metadata": {},
   "source": [
    "### Problem 2: \n",
    "Function gcd takes two integers and returns their greatest common divisor."
   ]
  },
  {
   "cell_type": "code",
   "execution_count": 10,
   "metadata": {
    "collapsed": true
   },
   "outputs": [],
   "source": [
    "def gcd(a, b):\n",
    "    if b == 0:\n",
    "       return(a)\n",
    "    else:\n",
    "       return(gcd(b, a % b))"
   ]
  },
  {
   "cell_type": "code",
   "execution_count": 11,
   "metadata": {},
   "outputs": [
    {
     "name": "stdout",
     "output_type": "stream",
     "text": [
      "10\n",
      "1\n",
      "250\n",
      "60\n"
     ]
    }
   ],
   "source": [
    "print(gcd(20,10))\n",
    "print(gcd(2017,2018))\n",
    "print(gcd(1000,250))\n",
    "print(gcd(5040,60))"
   ]
  },
  {
   "cell_type": "code",
   "execution_count": 12,
   "metadata": {},
   "outputs": [
    {
     "name": "stdout",
     "output_type": "stream",
     "text": [
      "60\n",
      "-60\n",
      "-60\n",
      "-60\n",
      "60\n",
      "-60\n"
     ]
    }
   ],
   "source": [
    "print(gcd(-5040,60))\n",
    "print(gcd(5040,-60))\n",
    "print(gcd(-5040,-60))\n",
    "print(gcd(60,-5040))\n",
    "print(gcd(-60,5040))\n",
    "print(gcd(-60,-5040))"
   ]
  },
  {
   "cell_type": "markdown",
   "metadata": {},
   "source": [
    "Cases with negative numbers do make sense except they should be positive because if -60 divides both a and b then 60 does as well, and obviously 60 > -60."
   ]
  },
  {
   "cell_type": "markdown",
   "metadata": {},
   "source": [
    "### Problem 3: \n",
    "Function `euler_limit` takes a natural number and returns an approximation of the the base of ln."
   ]
  },
  {
   "cell_type": "code",
   "execution_count": 13,
   "metadata": {},
   "outputs": [
    {
     "data": {
      "text/plain": [
       "2.546499697040712"
      ]
     },
     "execution_count": 13,
     "metadata": {},
     "output_type": "execute_result"
    }
   ],
   "source": [
    "def euler_limit(n):\n",
    "    return((1 + 1/n)**n)\n",
    "euler_limit(7)"
   ]
  },
  {
   "cell_type": "markdown",
   "metadata": {},
   "source": [
    "Function `euler_infinite_sum` takes a natural number plus 0 and retruns the sum of the first n terms of an infinate sum that approximates the base of ln.\n",
    "\n",
    "`factorial` is a helper function that I use in the `euler_infinite_sum` function."
   ]
  },
  {
   "cell_type": "code",
   "execution_count": 23,
   "metadata": {},
   "outputs": [
    {
     "name": "stdout",
     "output_type": "stream",
     "text": [
      "1\n",
      "6\n"
     ]
    }
   ],
   "source": [
    "def factorial(n):\n",
    "    res = 1\n",
    "    while n > 0:\n",
    "        res = res * n\n",
    "        n = n-1\n",
    "    return(res)\n",
    "print(factorial(0))\n",
    "print(factorial(3))"
   ]
  },
  {
   "cell_type": "code",
   "execution_count": 36,
   "metadata": {},
   "outputs": [
    {
     "name": "stdout",
     "output_type": "stream",
     "text": [
      "0\n",
      "1.0\n",
      "2.6666666666666665\n",
      "2.7180555555555554\n"
     ]
    }
   ],
   "source": [
    "def euler_infinite_sum(n):\n",
    "    res = 0\n",
    "    for i in range(n):\n",
    "        res = res + 1/factorial(i)\n",
    "    \n",
    "    return(res)\n",
    "\n",
    "print(euler_infinite_sum(0))\n",
    "print(euler_infinite_sum(1))\n",
    "print(euler_infinite_sum(4))\n",
    "print(euler_infinite_sum(7))"
   ]
  },
  {
   "cell_type": "markdown",
   "metadata": {},
   "source": [
    "Function `euler_approx` takes in a small float epsilon and returns an approximation of the base of ln less than epsilon away from the true value."
   ]
  },
  {
   "cell_type": "code",
   "execution_count": 44,
   "metadata": {
    "collapsed": true
   },
   "outputs": [],
   "source": [
    "import math\n",
    "def euler_approx(epsilon):\n",
    "    n = 1\n",
    "    while abs(euler_infinite_sum(n) - math.exp(1)) > epsilon:\n",
    "        n = n + 1\n",
    "    \n",
    "    print(\"number of itterations:\" + str(n) + \"\\napproximation: \" + str(euler_infinite_sum(n)) + \"\\nepsilon: \" + str(epsilon))"
   ]
  },
  {
   "cell_type": "code",
   "execution_count": 45,
   "metadata": {},
   "outputs": [
    {
     "name": "stdout",
     "output_type": "stream",
     "text": [
      "number of itterations:10\n",
      "approximation: 2.7182815255731922\n",
      "epsilon: 1e-06\n"
     ]
    }
   ],
   "source": [
    "euler_approx(0.000001)"
   ]
  },
  {
   "cell_type": "markdown",
   "metadata": {},
   "source": [
    "Function `print_euler_sum_table` takes a natural number `n` and prtins the first beween 1 and `n` first summands of the infinate sum that approxiumates the base of ln, each time on a new line."
   ]
  },
  {
   "cell_type": "code",
   "execution_count": 67,
   "metadata": {
    "collapsed": true
   },
   "outputs": [],
   "source": [
    "def print_euler_sum_table(n):\n",
    "    k = 1\n",
    "    while k <= n:\n",
    "        s = \"\"\n",
    "        for i in range(k):\n",
    "            s = s + \" \" + str(euler_infinite_sum(i+1))\n",
    "        print(s)\n",
    "        k = k + 1"
   ]
  },
  {
   "cell_type": "code",
   "execution_count": 68,
   "metadata": {},
   "outputs": [
    {
     "name": "stdout",
     "output_type": "stream",
     "text": [
      " 1.0\n",
      " 1.0 2.0\n",
      " 1.0 2.0 2.5\n",
      " 1.0 2.0 2.5 2.6666666666666665\n"
     ]
    }
   ],
   "source": [
    "print_euler_sum_table(4)"
   ]
  }
 ],
 "metadata": {
  "kernelspec": {
   "display_name": "Python 3",
   "language": "python",
   "name": "python3"
  },
  "language_info": {
   "codemirror_mode": {
    "name": "ipython",
    "version": 3
   },
   "file_extension": ".py",
   "mimetype": "text/x-python",
   "name": "python",
   "nbconvert_exporter": "python",
   "pygments_lexer": "ipython3",
   "version": "3.5.4"
  }
 },
 "nbformat": 4,
 "nbformat_minor": 2
}
