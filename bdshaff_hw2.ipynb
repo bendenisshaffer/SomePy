{
 "cells": [
  {
   "cell_type": "markdown",
   "metadata": {},
   "source": [
    "## Stats701-001 Homework 2, Winter 2018\n",
    "### Ben Denis Shaffer\n",
    "#### bdshaff@umich.edu"
   ]
  },
  {
   "cell_type": "markdown",
   "metadata": {},
   "source": [
    "### Problem 1: Fun with Strings\n",
    "\n",
    "Function `is_palindrome` checks if a string reads the same beginning to end and end to beginning when igniring capitalization and spaces."
   ]
  },
  {
   "cell_type": "code",
   "execution_count": 68,
   "metadata": {
    "collapsed": true
   },
   "outputs": [],
   "source": [
    "def is_palindrome(string):\n",
    "    s1 = list(string.lower().replace(\" \",\"\"))\n",
    "    s2 = list(string.lower().replace(\" \",\"\"))[::-1]\n",
    "    return(s1 == s2)"
   ]
  },
  {
   "cell_type": "code",
   "execution_count": 73,
   "metadata": {},
   "outputs": [
    {
     "name": "stdout",
     "output_type": "stream",
     "text": [
      "False\n",
      "True\n"
     ]
    }
   ],
   "source": [
    "print(is_palindrome(\"TACO c att\"))\n",
    "print(is_palindrome(\" TA CO c at\"))"
   ]
  },
  {
   "cell_type": "markdown",
   "metadata": {},
   "source": [
    "Finction `is_abecedarian` checks if characters in a string are in the alphabetical order from reading from left to right."
   ]
  },
  {
   "cell_type": "code",
   "execution_count": 93,
   "metadata": {
    "collapsed": true
   },
   "outputs": [],
   "source": [
    "def is_abecedarian(string):\n",
    "    s = list(string.lower().replace(\" \",\"\"))\n",
    "    for i in range(len(s)-1):\n",
    "        if s[i] > s[i+1]:\n",
    "            return(False)\n",
    "    return(True)"
   ]
  },
  {
   "cell_type": "code",
   "execution_count": 101,
   "metadata": {},
   "outputs": [
    {
     "name": "stdout",
     "output_type": "stream",
     "text": [
      "True\n",
      "True\n",
      "False\n",
      "False\n"
     ]
    }
   ],
   "source": [
    "print(is_abecedarian(\"adder\"))\n",
    "print(is_abecedarian(\"abcd efgh xyz \"))\n",
    "print(is_abecedarian(\"dog\"))\n",
    "print(is_abecedarian(\"cat\"))"
   ]
  },
  {
   "cell_type": "markdown",
   "metadata": {},
   "source": [
    "Function `count_vowels` counts the total number of times vowels appear in a given string, igninring capitalization and spaces."
   ]
  },
  {
   "cell_type": "code",
   "execution_count": 104,
   "metadata": {
    "collapsed": true
   },
   "outputs": [],
   "source": [
    "def count_vowels(string):\n",
    "    ct = 0\n",
    "    vs = [\"a\",\"e\",\"i\",\"o\",\"u\"]\n",
    "    s = list(string.lower().replace(\" \",\"\"))\n",
    "    for l in s:\n",
    "        if l in vs:\n",
    "            ct = ct + 1\n",
    "    return(ct)"
   ]
  },
  {
   "cell_type": "code",
   "execution_count": 113,
   "metadata": {},
   "outputs": [
    {
     "name": "stdout",
     "output_type": "stream",
     "text": [
      "9\n",
      "0\n"
     ]
    }
   ],
   "source": [
    "print(count_vowels(\"United Arab Emirates\"))\n",
    "print(count_vowels(\"Rhythm myth\"))"
   ]
  },
  {
   "cell_type": "markdown",
   "metadata": {},
   "source": [
    "### Problem 2: Fun with Lists"
   ]
  },
  {
   "cell_type": "markdown",
   "metadata": {},
   "source": [
    "Function `list_reverse` retruns a list with each element in the opposite order of the original."
   ]
  },
  {
   "cell_type": "code",
   "execution_count": 254,
   "metadata": {
    "collapsed": true
   },
   "outputs": [],
   "source": [
    "def list_reverse(lst):\n",
    "    return(lst[::-1])"
   ]
  },
  {
   "cell_type": "code",
   "execution_count": 255,
   "metadata": {},
   "outputs": [
    {
     "name": "stdout",
     "output_type": "stream",
     "text": [
      "['u', 'o', 'i', 'e', 'a']\n",
      "[[4, 3], [3, 2], [2, 1]]\n"
     ]
    }
   ],
   "source": [
    "print(list_reverse([\"a\",\"e\",\"i\",\"o\",\"u\"]))\n",
    "print(list_reverse([list_reverse([1,2]),list_reverse([2,3]),list_reverse([3,4])]))"
   ]
  },
  {
   "cell_type": "markdown",
   "metadata": {},
   "source": [
    "Function `binary_search` checks if an integer is contained in a given list of ordered integers. This function uses the binary search approach where the number of possible checks is cut in two each itteration."
   ]
  },
  {
   "cell_type": "code",
   "execution_count": 256,
   "metadata": {
    "collapsed": true
   },
   "outputs": [],
   "source": [
    "def binary_search(t,elmt):\n",
    "    tlen = len(t)\n",
    "    if tlen == 0:\n",
    "        return(False)\n",
    "    elif tlen == 1:\n",
    "        return(elmt == t[0])\n",
    "    elif elmt == t[int(tlen/2)]:\n",
    "        return(True)\n",
    "    elif elmt > t[int(tlen/2)]:\n",
    "        t = t[int(len(t) / 2):]\n",
    "        return(binary_search(t,elmt))\n",
    "    else:\n",
    "        t = t[:int(len(t) / 2)]\n",
    "        return(binary_search(t,elmt))"
   ]
  },
  {
   "cell_type": "markdown",
   "metadata": {},
   "source": [
    "### Problem 3: More Fun with Strings\n",
    "\n",
    "Function `char_hist` count the number of times each character in a string occures, and returns this in a as key-value pairs."
   ]
  },
  {
   "cell_type": "code",
   "execution_count": 22,
   "metadata": {
    "collapsed": true
   },
   "outputs": [],
   "source": [
    "def char_hist(string):\n",
    "    s = string.lower()\n",
    "    d = {}\n",
    "    for c in s:\n",
    "        if c not in d:\n",
    "            d[c] = 1\n",
    "        elif c in d:\n",
    "            d[c] = d[c] + 1\n",
    "    return(d)"
   ]
  },
  {
   "cell_type": "code",
   "execution_count": 41,
   "metadata": {
    "collapsed": true
   },
   "outputs": [],
   "source": [
    "s = \"mississippi\""
   ]
  },
  {
   "cell_type": "code",
   "execution_count": 42,
   "metadata": {},
   "outputs": [
    {
     "data": {
      "text/plain": [
       "{'i': 4, 'm': 1, 'p': 2, 's': 4}"
      ]
     },
     "execution_count": 42,
     "metadata": {},
     "output_type": "execute_result"
    }
   ],
   "source": [
    "char_hist(s)"
   ]
  },
  {
   "cell_type": "markdown",
   "metadata": {},
   "source": [
    "Function `bigram_hist` count the number of times each posible consecutive pair of characters occure in a string, and returns this in a as key-value pairs, where each key is a pair of characters."
   ]
  },
  {
   "cell_type": "code",
   "execution_count": 38,
   "metadata": {
    "collapsed": true
   },
   "outputs": [],
   "source": [
    "def bigram_hist(string):\n",
    "    s = string.lower()\n",
    "    d = {}\n",
    "    for i in range(len(s)-1):\n",
    "        if (s[i],s[i+1]) not in d:\n",
    "            d[(s[i],s[i+1])] = 1\n",
    "        elif (s[i],s[i+1]) in d:\n",
    "            d[(s[i],s[i+1])] = d[(s[i],s[i+1])] + 1\n",
    "    return(d)"
   ]
  },
  {
   "cell_type": "code",
   "execution_count": 43,
   "metadata": {},
   "outputs": [
    {
     "data": {
      "text/plain": [
       "{('i', 'p'): 1,\n",
       " ('i', 's'): 2,\n",
       " ('m', 'i'): 1,\n",
       " ('p', 'i'): 1,\n",
       " ('p', 'p'): 1,\n",
       " ('s', 'i'): 2,\n",
       " ('s', 's'): 2}"
      ]
     },
     "execution_count": 43,
     "metadata": {},
     "output_type": "execute_result"
    }
   ],
   "source": [
    "bigram_hist(\"mississippi\")"
   ]
  },
  {
   "cell_type": "markdown",
   "metadata": {},
   "source": [
    "### Problem 4: Tupols and Vectors"
   ]
  },
  {
   "cell_type": "markdown",
   "metadata": {},
   "source": [
    "Function `check_vec` is a helper function that checks whether the argument is of type tuple, and that all of its elements are of tupe int and/or float. If the argumen is not a tuple, a TypeError is raised. If any of the elements of the argument is not a float or int, a TypeError is raised."
   ]
  },
  {
   "cell_type": "code",
   "execution_count": 193,
   "metadata": {
    "collapsed": true
   },
   "outputs": [],
   "source": [
    "def check_vec(tp):\n",
    "    if type(tp) != tuple:\n",
    "        raise TypeError(\"Vector musts be a tuple!\")\n",
    "    ol = len(tp)\n",
    "    il = sum([type(n) is int or type(n) is float for n in tp])\n",
    "    if il == ol:\n",
    "        return(il == ol)\n",
    "    else:\n",
    "        raise TypeError(\"Arguemnts must be of type integer and/or float only!\")"
   ]
  },
  {
   "cell_type": "markdown",
   "metadata": {},
   "source": [
    "Function `vec_scalar_mult` takes as arguments a tuple with integers and floats and a scalar of type int or float (can also be a one element tuple), and returns a tuple with each element being equal to the value of the original tuple element multiplied by the scalar."
   ]
  },
  {
   "cell_type": "code",
   "execution_count": 210,
   "metadata": {
    "collapsed": true
   },
   "outputs": [],
   "source": [
    "def vec_scalar_mult(t,s):\n",
    "    res = tuple()\n",
    "    if not check_vec(tuple([s])):\n",
    "        raise TypeError(\"Argument s must be an numetic!\")\n",
    "    elif check_vec(t):\n",
    "        res = tuple([s*i for i in t])\n",
    "    return(res)"
   ]
  },
  {
   "cell_type": "markdown",
   "metadata": {},
   "source": [
    "Function `vec_inner_product` takes as arguments two tuple vectors of the same length and returns the dot product, which is always a scalar."
   ]
  },
  {
   "cell_type": "code",
   "execution_count": 227,
   "metadata": {
    "collapsed": true
   },
   "outputs": [],
   "source": [
    "def vec_inner_product(t1,t2):\n",
    "    res = tuple()\n",
    "    if check_vec(t1) and check_vec(t2):\n",
    "        if len(t1) == len(t2):\n",
    "            res = sum(tuple([i*j for i,j in zip(t1,t2)]))\n",
    "        else:\n",
    "            raise ValueError(\"Vecotrs must be of the same dimention!\")\n",
    "    return(res)"
   ]
  },
  {
   "cell_type": "markdown",
   "metadata": {},
   "source": [
    "Function `check_valid_mx` checks if the argument is a tuple of tuples of the same length and with only int of float type elements. If fails a TypeError is raised."
   ]
  },
  {
   "cell_type": "code",
   "execution_count": 229,
   "metadata": {
    "collapsed": true
   },
   "outputs": [],
   "source": [
    "def check_valid_mx(m):\n",
    "    if type(m) != tuple:\n",
    "        raise TypeError(\"Matrix musts be a tuple!\")\n",
    "    ol = len(m)\n",
    "    il = sum([type(t) is tuple for t in m])\n",
    "    vl = sum([len(mx[i]) == len(mx[i+1]) for i in range(len(mx)-1)]) + 1\n",
    "    cl = sum([check_vec(c) for c in m])\n",
    "    if il == ol and ol == vl and vl == cl:\n",
    "        return(True)\n",
    "    else:\n",
    "        raise TypeError(\"Each column must be a tuple of the same dimention!\")"
   ]
  },
  {
   "cell_type": "markdown",
   "metadata": {},
   "source": [
    "Function `mx_vec_mult` multiplies a matrix by a vecotor, returning a tuple of the inner products between each column and a vector. If the vecotr or matrix are not valid a ValueError is raised. If the vector and matrix are of non comformable dimentions a ValueError is raised."
   ]
  },
  {
   "cell_type": "code",
   "execution_count": 237,
   "metadata": {
    "collapsed": true
   },
   "outputs": [],
   "source": [
    "def mx_vec_mult(m,t):\n",
    "    res = tuple()\n",
    "    if not check_valid_mx(m):\n",
    "        raise ValueError(\"Not a valid matrix!\")\n",
    "    if not check_vec(t):\n",
    "        raise ValueError(\"Not a valid vctor!\")\n",
    "    if len(t) != len(m[0]):\n",
    "        raise ValueError(\"Vecotr and Matrix not of comformable dimentions!\")\n",
    "    else:\n",
    "        res = tuple([vec_inner_product(c,t) for c in m])\n",
    "    return(res)"
   ]
  }
 ],
 "metadata": {
  "kernelspec": {
   "display_name": "Python 3",
   "language": "python",
   "name": "python3"
  },
  "language_info": {
   "codemirror_mode": {
    "name": "ipython",
    "version": 3
   },
   "file_extension": ".py",
   "mimetype": "text/x-python",
   "name": "python",
   "nbconvert_exporter": "python",
   "pygments_lexer": "ipython3",
   "version": "3.5.4"
  }
 },
 "nbformat": 4,
 "nbformat_minor": 2
}
